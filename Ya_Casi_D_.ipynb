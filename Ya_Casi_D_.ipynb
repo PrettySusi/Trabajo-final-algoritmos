{
  "nbformat": 4,
  "nbformat_minor": 0,
  "metadata": {
    "colab": {
      "provenance": [],
      "authorship_tag": "ABX9TyNx072oflQgzBDfvd8j5FIJ",
      "include_colab_link": true
    },
    "kernelspec": {
      "name": "python3",
      "display_name": "Python 3"
    },
    "language_info": {
      "name": "python"
    }
  },
  "cells": [
    {
      "cell_type": "markdown",
      "metadata": {
        "id": "view-in-github",
        "colab_type": "text"
      },
      "source": [
        "<a href=\"https://colab.research.google.com/github/PrettySusi/Trabajo-final-algoritmos/blob/main/Ya_Casi_D_.ipynb\" target=\"_parent\"><img src=\"https://colab.research.google.com/assets/colab-badge.svg\" alt=\"Open In Colab\"/></a>"
      ]
    },
    {
      "cell_type": "code",
      "execution_count": 21,
      "metadata": {
        "colab": {
          "base_uri": "https://localhost:8080/"
        },
        "id": "OAARSvdKU_CB",
        "outputId": "fee7874c-5309-4e03-d9de-2351b8b7753f"
      },
      "outputs": [
        {
          "output_type": "stream",
          "name": "stdout",
          "text": [
            "Requirement already satisfied: unidecode in /usr/local/lib/python3.10/dist-packages (1.3.8)\n"
          ]
        }
      ],
      "source": [
        "import pandas as pd\n",
        "\n",
        "import numpy as np\n",
        "\n",
        "import random as rn\n",
        "\n",
        "import time\n",
        "\n",
        "import datetime\n",
        "\n",
        "import logging\n",
        "\n",
        "import tqdm\n",
        "\n",
        "import warnings\n",
        "\n",
        "import os\n",
        "\n",
        "!pip install unidecode\n",
        "\n",
        "from unidecode import unidecode as u\n",
        "\n",
        "import pathlib\n",
        "\n",
        "from pathlib import Path"
      ]
    },
    {
      "cell_type": "code",
      "source": [
        "dfs = pd.read_csv('https://raw.githubusercontent.com/PrettySusi/Trabajo-final-algoritmos/main/Materias%2C%20semestre%20y%20cr%C3%A9ditos_m.csv',encoding='ISO-8859-1', delimiter= ';')\n",
        "\n",
        "cred = dfs['CRÉDITOS']\n",
        "\n",
        "cc=  cred.tolist()\n",
        "\n",
        "htd=[]\n",
        "\n",
        "for i in range(len(cc)):\n",
        "  j=int(cc[i])\n",
        "\n",
        "  if j == 1:\n",
        "    j=16\n",
        "  elif j == 2:\n",
        "    j=32\n",
        "  elif j == 3:\n",
        "    j=64\n",
        "  elif j == 4:\n",
        "    j=96\n",
        "  elif j == 12:\n",
        "    j=0\n",
        "  else:\n",
        "    print()\n",
        "  htd.append(j)\n",
        "\n",
        "hti=[]\n",
        "\n",
        "for i in range(len(cc)):\n",
        "  k=int(cc[i])\n",
        "\n",
        "  if k == 1:\n",
        "    k=32\n",
        "  elif k == 2:\n",
        "    k=64\n",
        "  elif k == 3:\n",
        "    k=80\n",
        "  elif k == 4:\n",
        "    k=120\n",
        "  elif k == 12:\n",
        "    k=0\n",
        "  else:\n",
        "    print()\n",
        "  hti.append(k)\n",
        "\n",
        "\n",
        "dfs['HTD'] = htd\n",
        "\n",
        "dfs['HTI']= hti\n",
        "\n",
        "def codigoAsignatura(texto:str):\n",
        "    texto =  texto.split(' ')\n",
        "    codigo = []\n",
        "    for t in texto:\n",
        "        if len(t)>3:\n",
        "            codigo.append(t)\n",
        "        else:\n",
        "            pass\n",
        "    if len(codigo) == 1:\n",
        "        return codigo[0][:3].upper()\n",
        "    elif len(codigo)== 2:\n",
        "        return codigo[0][:2].upper() + codigo[1][0].upper()\n",
        "    else:\n",
        "        return codigo[0][0].upper() + codigo[1][0].upper() + codigo[2][0].upper()\n",
        "\n",
        "\n",
        "dfs['CC']= dfs['MATERIAS'].apply(codigoAsignatura)\n",
        "\n",
        "\n"
      ],
      "metadata": {
        "id": "mJHVXgw1VIed"
      },
      "execution_count": 24,
      "outputs": []
    },
    {
      "cell_type": "code",
      "source": [
        "dfn= pd.read_csv('https://raw.githubusercontent.com/PrettySusi/Trabajo-final-algoritmos/main/NombresArgentina.csv',encoding='ISO-8859-1')\n",
        "\n",
        "dfa= pd.read_csv('https://raw.githubusercontent.com/PrettySusi/Trabajo-final-algoritmos/main/ApellidosArgentina.csv',encoding='ISO-8859-1')\n",
        "\n",
        "dfaa= dfa.sample(len(dfn)*2)\n",
        "\n",
        "nombres = dfn['name'].tolist()\n",
        "\n",
        "apellidos = dfaa['lastname'].tolist()\n",
        "\n",
        "primer= apellidos[:len(dfn)-1]\n",
        "\n",
        "segundo= apellidos[len(dfn):len(dfn)*2]\n",
        "\n",
        "nombres_apellidos = rn.sample(list(zip(nombres, primer, segundo)), 1000)\n",
        "\n",
        "data = pd.DataFrame(nombres_apellidos, columns=['Nombre', '1er apellido','2ndo apellido'])\n",
        "\n",
        "data['1er apellido']= data['1er apellido'].str.upper()\n",
        "\n",
        "data['2ndo apellido']= data['2ndo apellido'].str.upper()\n",
        "\n",
        "nombre_c= data['Nombre completo'] = data['Nombre'].str.cat([data['1er apellido'], data['2ndo apellido']], sep=' ')\n",
        "\n",
        "df1=pd.DataFrame({'Nombre Completo':nombre_c})"
      ],
      "metadata": {
        "id": "ovpbNMb5VP-n"
      },
      "execution_count": 3,
      "outputs": []
    },
    {
      "cell_type": "code",
      "source": [
        "def GenerearSemestre() -> int:\n",
        "    semestre = [1] * 140\n",
        "    semestre.extend([2] * 130)\n",
        "    semestre.extend([3] * 120)\n",
        "    semestre.extend([4] * 110)\n",
        "    semestre.extend([5] * 100)\n",
        "    semestre.extend([6] * 100)\n",
        "    semestre.extend([7] * 90)\n",
        "    semestre.extend([8] * 80)\n",
        "    semestre.extend([9] * 70)\n",
        "    semestre.extend([10] * 60)\n",
        "\n",
        "    rn.shuffle(semestre)\n",
        "    return semestre\n",
        "\n",
        "semestres_generados = GenerearSemestre()\n",
        "df2 = pd.DataFrame({'Semestre': semestres_generados})\n",
        "\n",
        "df= df1.join(df2, lsuffix='_df1', rsuffix='_df2')"
      ],
      "metadata": {
        "id": "-tscmWpiVT8T"
      },
      "execution_count": 4,
      "outputs": []
    },
    {
      "cell_type": "code",
      "source": [
        "cupo_semestre = {1: 30, 2: 30, 3: 30, 4: 25, 5: 25, 6: 25, 7: 20, 8: 20, 9: 20, 10: 10}\n",
        "\n",
        "def generar_planeacion_academica(df, dfs, cupo_semestre):\n",
        "    resultados = []\n",
        "    for index, row in dfs.iterrows():\n",
        "        semestre = row['SEMESTRE']\n",
        "        materia = row['MATERIAS']\n",
        "        creditos = row['CRÉDITOS']\n",
        "        htd = row['HTD']\n",
        "        hti = row['HTI']\n",
        "        cc= row['CC']\n",
        "\n",
        "        cupo_aula = cupo_semestre.get(semestre, 30)\n",
        "\n",
        "        estudiantes_semestre = df[df['Semestre'] == semestre]\n",
        "        num_estudiantes = len(estudiantes_semestre)\n",
        "        num_grupos = (num_estudiantes // cupo_aula) + (1 if num_estudiantes % cupo_aula > 0 else 0)\n",
        "\n",
        "        for grupo in range(num_grupos):\n",
        "            estudiantes_grupo = estudiantes_semestre.iloc[grupo*cupo_aula : (grupo+1)*cupo_aula]\n",
        "            codigo_asignatura = u(f\"{materia[:3].upper()}{semestre}{creditos}{grupo+1}\")\n",
        "\n",
        "            nombres_estudiantes = estudiantes_grupo['Nombre Completo'].tolist()\n",
        "            resultados.append(( nombres_estudiantes, materia, codigo_asignatura, htd, hti, u(cc), len(estudiantes_grupo), num_grupos))\n",
        "\n",
        "    return resultados\n",
        "\n",
        "r = generar_planeacion_academica(df, dfs, cupo_semestre)\n",
        "dat= pd.DataFrame(r)\n",
        "\n",
        "columna= ['Nombre alumno','Asignatura', 'CA', 'HTD','HTI', 'CC', 'NTE','TCA']\n",
        "resultado = pd.DataFrame(r, columns=columna)\n",
        "\n",
        "rf=[]\n",
        "\n",
        "for index, row in resultado.iterrows():\n",
        "  names= row['Nombre alumno']\n",
        "  for n in names:\n",
        "    rf.append(row.tolist()[:-1] + [n])\n",
        "\n",
        "c= columna[:-1]\n",
        "c.append('Nombre')\n",
        "\n",
        "p= pd.DataFrame(rf, columns= c)\n",
        "planilla= p.explode('Nombre').drop(columns=['Nombre alumno'])\n"
      ],
      "metadata": {
        "id": "NavkG0JiVmSC"
      },
      "execution_count": 45,
      "outputs": []
    },
    {
      "cell_type": "code",
      "source": [
        "ns= [1,2,3,4,5,6,7,8,9,10]\n",
        "materias= []\n",
        "\n",
        "uno = dfs.loc[:,['MATERIAS',\t'SEMESTRE']]\n",
        "\n",
        "for n in ns:\n",
        "\n",
        "  semes = uno[dfs['SEMESTRE']==n]\n",
        "  materias.append(semes)\n",
        "\n",
        "l=[]\n",
        "for i in range(0,10):\n",
        "  f= materias[i]['MATERIAS'].tolist()\n",
        "  l.append(f)\n",
        "\n",
        "semestres=['Semestre 1','Semestre 2','Semestre 3','Semestre 4', 'Semestre 5','Semestre 6', 'Semestre 7','Semestre 8','Semestre 9', 'Semestre 10']\n",
        "\n",
        "for sem in semestres:\n",
        "  si= semestres.index(sem) +1\n",
        "  mats = l[si - 1]\n",
        "\n",
        "  for m in mats:\n",
        "    a= planilla[planilla['Asignatura'] == m]\n",
        "\n",
        "    ruta= Path('Ruu') / sem / m\n",
        "    ruta.mkdir(parents= True, exist_ok= True)\n",
        "\n",
        "    codigo_curso = dfs.loc[dfs['MATERIAS'] == m, 'CC'].iloc[0]\n",
        "\n",
        "    csv = ruta / f\"{codigo_curso}-{m.replace(' ', '').capitalize()}-{'d'}-{si}.csv\"\n",
        "    a.to_csv(csv, index=False)\n",
        "\n",
        "    excel = ruta / f\"{codigo_curso}-{m.replace(' ', '').capitalize()}-{'d'}-{si}.xlsx\"\n",
        "    a.to_excel(excel, index=False)\n"
      ],
      "metadata": {
        "id": "m_VOZawda9Nq"
      },
      "execution_count": 56,
      "outputs": []
    }
  ]
}